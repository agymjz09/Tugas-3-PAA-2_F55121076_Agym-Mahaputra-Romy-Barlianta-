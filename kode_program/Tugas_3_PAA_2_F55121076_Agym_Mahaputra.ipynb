{
  "nbformat": 4,
  "nbformat_minor": 0,
  "metadata": {
    "colab": {
      "provenance": []
    },
    "kernelspec": {
      "name": "python3",
      "display_name": "Python 3"
    },
    "language_info": {
      "name": "python"
    }
  },
  "cells": [
    {
      "cell_type": "markdown",
      "source": [
        "AGYM MAHAPUTRA ROMY BARLIANTA </h1></p>\n",
        "\n",
        "F55121076 </h1></p>\n",
        "\n",
        "B </h1></p>\n"
      ],
      "metadata": {
        "id": "W9m8UsJQ0B7-"
      }
    },
    {
      "cell_type": "markdown",
      "source": [
        "BUBBLE SORT"
      ],
      "metadata": {
        "id": "pQWm5rzGyDrT"
      }
    },
    {
      "cell_type": "markdown",
      "source": [
        "Bubble Sort adalah algoritma pengurutan sederhana yang berulang kali membandingkan elemen-elemen berdekatan dan menukar mereka jika mereka berada dalam urutan yang salah. Proses ini berlanjut hingga seluruh array diurutkan.\n"
      ],
      "metadata": {
        "id": "OCzildvVzYAt"
      }
    },
    {
      "cell_type": "code",
      "execution_count": 3,
      "metadata": {
        "colab": {
          "base_uri": "https://localhost:8080/"
        },
        "id": "4ik2SWgHx6pJ",
        "outputId": "3ec6805c-699c-4f62-e94f-dd6c3b2d04cd"
      },
      "outputs": [
        {
          "output_type": "stream",
          "name": "stdout",
          "text": [
            "Array awal: [64, 34, 25, 12, 22, 11, 90]\n",
            "Iterasi ke- 1 : [34, 25, 12, 22, 11, 64, 90]\n",
            "Iterasi ke- 2 : [25, 12, 22, 11, 34, 64, 90]\n",
            "Iterasi ke- 3 : [12, 22, 11, 25, 34, 64, 90]\n",
            "Iterasi ke- 4 : [12, 11, 22, 25, 34, 64, 90]\n",
            "Iterasi ke- 5 : [11, 12, 22, 25, 34, 64, 90]\n",
            "Iterasi ke- 6 : [11, 12, 22, 25, 34, 64, 90]\n",
            "Hasil setelah Bubble Sort:\n",
            "11\n",
            "12\n",
            "22\n",
            "25\n",
            "34\n",
            "64\n",
            "90\n"
          ]
        }
      ],
      "source": [
        "# Agym Mahaputra R. B\n",
        "# F55121076\n",
        "def bubbleSort(arr):\n",
        "    n = len(arr)\n",
        "    \n",
        "    for i in range(n-1):\n",
        "        for j in range(0, n-i-1):\n",
        "            if arr[j] > arr[j+1]:\n",
        "                arr[j], arr[j+1] = arr[j+1], arr[j]\n",
        "        \n",
        "        # Menampilkan proses pengurutan pada setiap iterasi\n",
        "        print(\"Iterasi ke-\", i+1, \":\", arr)\n",
        "\n",
        "# Contoh penggunaan\n",
        "arr = [64, 34, 25, 12, 22, 11, 90]\n",
        "print(\"Array awal:\", arr)\n",
        "\n",
        "bubbleSort(arr)\n",
        "\n",
        "print(\"Hasil setelah Bubble Sort:\")\n",
        "for i in range(len(arr)):\n",
        "    print(arr[i])\n"
      ]
    },
    {
      "cell_type": "markdown",
      "source": [
        "INSERTION SORT\n"
      ],
      "metadata": {
        "id": "qUhxCC8WymKK"
      }
    },
    {
      "cell_type": "markdown",
      "source": [
        "Insertion Sort adalah algoritma pengurutan sederhana yang membagi array menjadi dua bagian: bagian yang sudah diurutkan dan bagian yang belum diurutkan. Pada setiap langkah iterasi, satu elemen diambil dari bagian belum diurutkan dan ditempatkan pada posisi yang tepat di dalam bagian sudah diurutkan.\n"
      ],
      "metadata": {
        "id": "un07JHfWzmd8"
      }
    },
    {
      "cell_type": "code",
      "source": [
        "def insertionSort(arr):\n",
        "    for i in range(1, len(arr)):\n",
        "        key = arr[i]\n",
        "        j = i - 1\n",
        "        while j >= 0 and arr[j] > key:\n",
        "            arr[j + 1] = arr[j]\n",
        "            j -= 1\n",
        "        arr[j + 1] = key\n",
        "        \n",
        "        # Menampilkan proses pengurutan pada setiap iterasi\n",
        "        print(\"Iterasi ke-\", i, \":\", arr)\n",
        "\n",
        "# Contoh penggunaan\n",
        "arr = [64, 34, 25, 12, 22, 11, 90]\n",
        "print(\"Array awal:\", arr)\n",
        "\n",
        "insertionSort(arr)\n",
        "\n",
        "print(\"Hasil setelah Insertion Sort:\")\n",
        "for i in range(len(arr)):\n",
        "    print(arr[i])\n"
      ],
      "metadata": {
        "colab": {
          "base_uri": "https://localhost:8080/"
        },
        "id": "EKXcgZmLyiRk",
        "outputId": "e0c811c6-cd8e-4e9d-d45f-f32ee64bee09"
      },
      "execution_count": 4,
      "outputs": [
        {
          "output_type": "stream",
          "name": "stdout",
          "text": [
            "Array awal: [64, 34, 25, 12, 22, 11, 90]\n",
            "Iterasi ke- 1 : [34, 64, 25, 12, 22, 11, 90]\n",
            "Iterasi ke- 2 : [25, 34, 64, 12, 22, 11, 90]\n",
            "Iterasi ke- 3 : [12, 25, 34, 64, 22, 11, 90]\n",
            "Iterasi ke- 4 : [12, 22, 25, 34, 64, 11, 90]\n",
            "Iterasi ke- 5 : [11, 12, 22, 25, 34, 64, 90]\n",
            "Iterasi ke- 6 : [11, 12, 22, 25, 34, 64, 90]\n",
            "Hasil setelah Insertion Sort:\n",
            "11\n",
            "12\n",
            "22\n",
            "25\n",
            "34\n",
            "64\n",
            "90\n"
          ]
        }
      ]
    },
    {
      "cell_type": "markdown",
      "source": [
        "mana yang lebih optimal dari algoritma BubbleSort dan algoritma InsertionSort? </p>\n",
        "\n",
        "Kedua algoritma Bubble Sort dan Insertion Sort memiliki kompleksitas waktu yang sama pada kasus rata-rata, yaitu O(n^2), di mana n adalah jumlah elemen dalam array yang akan diurutkan. Oleh karena itu, keduanya memiliki kinerja yang serupa dalam skenario umum.</p>\n",
        "\n",
        "Namun, dalam beberapa kasus tertentu, Insertion Sort dapat sedikit lebih cepat daripada Bubble Sort. Misalnya, jika array hampir terurut atau memiliki sedikit elemen yang tidak berada pada posisi yang benar, Insertion Sort akan lebih efisien karena dapat menyisipkan elemen pada posisi yang tepat dengan sedikit pergeseran. Di sisi lain, Bubble Sort selalu melibatkan pertukaran tetangga elemen, bahkan jika elemen tersebut sudah berada pada posisi yang benar."
      ],
      "metadata": {
        "id": "g4Ugznh1zrRi"
      }
    }
  ]
}